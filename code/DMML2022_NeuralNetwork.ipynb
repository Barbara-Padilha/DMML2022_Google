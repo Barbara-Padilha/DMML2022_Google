{
  "cells": [
    {
      "cell_type": "markdown",
      "metadata": {
        "id": "8ZKqCFFbNZ04"
      },
      "source": [
        "# Data Mining and Machine Learning - Project\n",
        "\n",
        "## Detecting Difficulty Level of French Texts Using Neural Networks."
      ]
    },
    {
      "cell_type": "markdown",
      "metadata": {
        "id": "4hMQIKMFFZgg"
      },
      "source": [
        "**Install** TensorFlow Text"
      ]
    },
    {
      "cell_type": "code",
      "source": [
        "pip install tensorflow_text\n"
      ],
      "metadata": {
        "id": "vnqCadWMFUHE"
      },
      "execution_count": null,
      "outputs": []
    },
    {
      "cell_type": "markdown",
      "metadata": {
        "id": "9-14CAdOoinM"
      },
      "source": [
        "**Import** the main packages"
      ]
    },
    {
      "cell_type": "code",
      "execution_count": null,
      "metadata": {
        "id": "daqvj7feTx60"
      },
      "outputs": [],
      "source": [
        "import pandas as pd\n",
        "import numpy as np\n",
        "import matplotlib.pyplot as plt\n",
        "import seaborn as sns\n",
        "%matplotlib inline\n",
        "sns.set_style(\"whitegrid\")\n",
        "\n",
        "# ML Packs\n",
        "from sklearn.model_selection import train_test_split\n",
        "from sklearn.preprocessing import OrdinalEncoder\n",
        "import tensorflow as tf\n",
        "import tensorflow_text\n",
        "import tensorflow_hub as hub\n",
        "from sklearn.metrics import confusion_matrix, accuracy_score, precision_score, recall_score, f1_score\n",
        "\n"
      ]
    },
    {
      "cell_type": "markdown",
      "source": [
        "Read the training data."
      ],
      "metadata": {
        "id": "PlZMyvAu646T"
      }
    },
    {
      "cell_type": "code",
      "execution_count": null,
      "metadata": {
        "colab": {
          "base_uri": "https://localhost:8080/",
          "height": 206
        },
        "id": "VxRSnk5bhTp8",
        "outputId": "61249660-cfb0-48c0-a677-da989ec5c846"
      },
      "outputs": [
        {
          "output_type": "execute_result",
          "data": {
            "text/plain": [
              "   id                                           sentence difficulty\n",
              "0   0  Les coûts kilométriques réels peuvent diverger...         C1\n",
              "1   1  Le bleu, c'est ma couleur préférée mais je n'a...         A1\n",
              "2   2  Le test de niveau en français est sur le site ...         A1\n",
              "3   3           Est-ce que ton mari est aussi de Boston?         A1\n",
              "4   4  Dans les écoles de commerce, dans les couloirs...         B1"
            ],
            "text/html": [
              "\n",
              "  <div id=\"df-666e0f3d-682b-4674-b1c5-5adc2e38f0d8\">\n",
              "    <div class=\"colab-df-container\">\n",
              "      <div>\n",
              "<style scoped>\n",
              "    .dataframe tbody tr th:only-of-type {\n",
              "        vertical-align: middle;\n",
              "    }\n",
              "\n",
              "    .dataframe tbody tr th {\n",
              "        vertical-align: top;\n",
              "    }\n",
              "\n",
              "    .dataframe thead th {\n",
              "        text-align: right;\n",
              "    }\n",
              "</style>\n",
              "<table border=\"1\" class=\"dataframe\">\n",
              "  <thead>\n",
              "    <tr style=\"text-align: right;\">\n",
              "      <th></th>\n",
              "      <th>id</th>\n",
              "      <th>sentence</th>\n",
              "      <th>difficulty</th>\n",
              "    </tr>\n",
              "  </thead>\n",
              "  <tbody>\n",
              "    <tr>\n",
              "      <th>0</th>\n",
              "      <td>0</td>\n",
              "      <td>Les coûts kilométriques réels peuvent diverger...</td>\n",
              "      <td>C1</td>\n",
              "    </tr>\n",
              "    <tr>\n",
              "      <th>1</th>\n",
              "      <td>1</td>\n",
              "      <td>Le bleu, c'est ma couleur préférée mais je n'a...</td>\n",
              "      <td>A1</td>\n",
              "    </tr>\n",
              "    <tr>\n",
              "      <th>2</th>\n",
              "      <td>2</td>\n",
              "      <td>Le test de niveau en français est sur le site ...</td>\n",
              "      <td>A1</td>\n",
              "    </tr>\n",
              "    <tr>\n",
              "      <th>3</th>\n",
              "      <td>3</td>\n",
              "      <td>Est-ce que ton mari est aussi de Boston?</td>\n",
              "      <td>A1</td>\n",
              "    </tr>\n",
              "    <tr>\n",
              "      <th>4</th>\n",
              "      <td>4</td>\n",
              "      <td>Dans les écoles de commerce, dans les couloirs...</td>\n",
              "      <td>B1</td>\n",
              "    </tr>\n",
              "  </tbody>\n",
              "</table>\n",
              "</div>\n",
              "      <button class=\"colab-df-convert\" onclick=\"convertToInteractive('df-666e0f3d-682b-4674-b1c5-5adc2e38f0d8')\"\n",
              "              title=\"Convert this dataframe to an interactive table.\"\n",
              "              style=\"display:none;\">\n",
              "        \n",
              "  <svg xmlns=\"http://www.w3.org/2000/svg\" height=\"24px\"viewBox=\"0 0 24 24\"\n",
              "       width=\"24px\">\n",
              "    <path d=\"M0 0h24v24H0V0z\" fill=\"none\"/>\n",
              "    <path d=\"M18.56 5.44l.94 2.06.94-2.06 2.06-.94-2.06-.94-.94-2.06-.94 2.06-2.06.94zm-11 1L8.5 8.5l.94-2.06 2.06-.94-2.06-.94L8.5 2.5l-.94 2.06-2.06.94zm10 10l.94 2.06.94-2.06 2.06-.94-2.06-.94-.94-2.06-.94 2.06-2.06.94z\"/><path d=\"M17.41 7.96l-1.37-1.37c-.4-.4-.92-.59-1.43-.59-.52 0-1.04.2-1.43.59L10.3 9.45l-7.72 7.72c-.78.78-.78 2.05 0 2.83L4 21.41c.39.39.9.59 1.41.59.51 0 1.02-.2 1.41-.59l7.78-7.78 2.81-2.81c.8-.78.8-2.07 0-2.86zM5.41 20L4 18.59l7.72-7.72 1.47 1.35L5.41 20z\"/>\n",
              "  </svg>\n",
              "      </button>\n",
              "      \n",
              "  <style>\n",
              "    .colab-df-container {\n",
              "      display:flex;\n",
              "      flex-wrap:wrap;\n",
              "      gap: 12px;\n",
              "    }\n",
              "\n",
              "    .colab-df-convert {\n",
              "      background-color: #E8F0FE;\n",
              "      border: none;\n",
              "      border-radius: 50%;\n",
              "      cursor: pointer;\n",
              "      display: none;\n",
              "      fill: #1967D2;\n",
              "      height: 32px;\n",
              "      padding: 0 0 0 0;\n",
              "      width: 32px;\n",
              "    }\n",
              "\n",
              "    .colab-df-convert:hover {\n",
              "      background-color: #E2EBFA;\n",
              "      box-shadow: 0px 1px 2px rgba(60, 64, 67, 0.3), 0px 1px 3px 1px rgba(60, 64, 67, 0.15);\n",
              "      fill: #174EA6;\n",
              "    }\n",
              "\n",
              "    [theme=dark] .colab-df-convert {\n",
              "      background-color: #3B4455;\n",
              "      fill: #D2E3FC;\n",
              "    }\n",
              "\n",
              "    [theme=dark] .colab-df-convert:hover {\n",
              "      background-color: #434B5C;\n",
              "      box-shadow: 0px 1px 3px 1px rgba(0, 0, 0, 0.15);\n",
              "      filter: drop-shadow(0px 1px 2px rgba(0, 0, 0, 0.3));\n",
              "      fill: #FFFFFF;\n",
              "    }\n",
              "  </style>\n",
              "\n",
              "      <script>\n",
              "        const buttonEl =\n",
              "          document.querySelector('#df-666e0f3d-682b-4674-b1c5-5adc2e38f0d8 button.colab-df-convert');\n",
              "        buttonEl.style.display =\n",
              "          google.colab.kernel.accessAllowed ? 'block' : 'none';\n",
              "\n",
              "        async function convertToInteractive(key) {\n",
              "          const element = document.querySelector('#df-666e0f3d-682b-4674-b1c5-5adc2e38f0d8');\n",
              "          const dataTable =\n",
              "            await google.colab.kernel.invokeFunction('convertToInteractive',\n",
              "                                                     [key], {});\n",
              "          if (!dataTable) return;\n",
              "\n",
              "          const docLinkHtml = 'Like what you see? Visit the ' +\n",
              "            '<a target=\"_blank\" href=https://colab.research.google.com/notebooks/data_table.ipynb>data table notebook</a>'\n",
              "            + ' to learn more about interactive tables.';\n",
              "          element.innerHTML = '';\n",
              "          dataTable['output_type'] = 'display_data';\n",
              "          await google.colab.output.renderOutput(dataTable, element);\n",
              "          const docLink = document.createElement('div');\n",
              "          docLink.innerHTML = docLinkHtml;\n",
              "          element.appendChild(docLink);\n",
              "        }\n",
              "      </script>\n",
              "    </div>\n",
              "  </div>\n",
              "  "
            ]
          },
          "metadata": {},
          "execution_count": 4
        }
      ],
      "source": [
        "df = pd.read_csv(\"training_data.csv\")\n",
        "df.head()"
      ]
    },
    {
      "cell_type": "code",
      "source": [
        "X0 = df[\"sentence\"].to_numpy()\n",
        "y0 = df[\"difficulty\"] "
      ],
      "metadata": {
        "id": "I1jms4OGFw-5"
      },
      "execution_count": null,
      "outputs": []
    },
    {
      "cell_type": "markdown",
      "metadata": {
        "id": "1kpfbtndj0jL"
      },
      "source": [
        "Read the unlabelled test data, on which to make predictions."
      ]
    },
    {
      "cell_type": "code",
      "execution_count": null,
      "metadata": {
        "id": "gk9H2dLHkFBa",
        "colab": {
          "base_uri": "https://localhost:8080/",
          "height": 206
        },
        "outputId": "6c4e8d8e-b3bf-4ce1-9aca-7ec179f8eab7"
      },
      "outputs": [
        {
          "output_type": "execute_result",
          "data": {
            "text/plain": [
              "   id                                           sentence\n",
              "0   0  Nous dûmes nous excuser des propos que nous eû...\n",
              "1   1  Vous ne pouvez pas savoir le plaisir que j'ai ...\n",
              "2   2  Et, paradoxalement, boire froid n'est pas la b...\n",
              "3   3  Ce n'est pas étonnant, car c'est une saison my...\n",
              "4   4  Le corps de Golo lui-même, d'une essence aussi..."
            ],
            "text/html": [
              "\n",
              "  <div id=\"df-a9b46bd9-d084-4dce-b1cd-c22f38d942c4\">\n",
              "    <div class=\"colab-df-container\">\n",
              "      <div>\n",
              "<style scoped>\n",
              "    .dataframe tbody tr th:only-of-type {\n",
              "        vertical-align: middle;\n",
              "    }\n",
              "\n",
              "    .dataframe tbody tr th {\n",
              "        vertical-align: top;\n",
              "    }\n",
              "\n",
              "    .dataframe thead th {\n",
              "        text-align: right;\n",
              "    }\n",
              "</style>\n",
              "<table border=\"1\" class=\"dataframe\">\n",
              "  <thead>\n",
              "    <tr style=\"text-align: right;\">\n",
              "      <th></th>\n",
              "      <th>id</th>\n",
              "      <th>sentence</th>\n",
              "    </tr>\n",
              "  </thead>\n",
              "  <tbody>\n",
              "    <tr>\n",
              "      <th>0</th>\n",
              "      <td>0</td>\n",
              "      <td>Nous dûmes nous excuser des propos que nous eû...</td>\n",
              "    </tr>\n",
              "    <tr>\n",
              "      <th>1</th>\n",
              "      <td>1</td>\n",
              "      <td>Vous ne pouvez pas savoir le plaisir que j'ai ...</td>\n",
              "    </tr>\n",
              "    <tr>\n",
              "      <th>2</th>\n",
              "      <td>2</td>\n",
              "      <td>Et, paradoxalement, boire froid n'est pas la b...</td>\n",
              "    </tr>\n",
              "    <tr>\n",
              "      <th>3</th>\n",
              "      <td>3</td>\n",
              "      <td>Ce n'est pas étonnant, car c'est une saison my...</td>\n",
              "    </tr>\n",
              "    <tr>\n",
              "      <th>4</th>\n",
              "      <td>4</td>\n",
              "      <td>Le corps de Golo lui-même, d'une essence aussi...</td>\n",
              "    </tr>\n",
              "  </tbody>\n",
              "</table>\n",
              "</div>\n",
              "      <button class=\"colab-df-convert\" onclick=\"convertToInteractive('df-a9b46bd9-d084-4dce-b1cd-c22f38d942c4')\"\n",
              "              title=\"Convert this dataframe to an interactive table.\"\n",
              "              style=\"display:none;\">\n",
              "        \n",
              "  <svg xmlns=\"http://www.w3.org/2000/svg\" height=\"24px\"viewBox=\"0 0 24 24\"\n",
              "       width=\"24px\">\n",
              "    <path d=\"M0 0h24v24H0V0z\" fill=\"none\"/>\n",
              "    <path d=\"M18.56 5.44l.94 2.06.94-2.06 2.06-.94-2.06-.94-.94-2.06-.94 2.06-2.06.94zm-11 1L8.5 8.5l.94-2.06 2.06-.94-2.06-.94L8.5 2.5l-.94 2.06-2.06.94zm10 10l.94 2.06.94-2.06 2.06-.94-2.06-.94-.94-2.06-.94 2.06-2.06.94z\"/><path d=\"M17.41 7.96l-1.37-1.37c-.4-.4-.92-.59-1.43-.59-.52 0-1.04.2-1.43.59L10.3 9.45l-7.72 7.72c-.78.78-.78 2.05 0 2.83L4 21.41c.39.39.9.59 1.41.59.51 0 1.02-.2 1.41-.59l7.78-7.78 2.81-2.81c.8-.78.8-2.07 0-2.86zM5.41 20L4 18.59l7.72-7.72 1.47 1.35L5.41 20z\"/>\n",
              "  </svg>\n",
              "      </button>\n",
              "      \n",
              "  <style>\n",
              "    .colab-df-container {\n",
              "      display:flex;\n",
              "      flex-wrap:wrap;\n",
              "      gap: 12px;\n",
              "    }\n",
              "\n",
              "    .colab-df-convert {\n",
              "      background-color: #E8F0FE;\n",
              "      border: none;\n",
              "      border-radius: 50%;\n",
              "      cursor: pointer;\n",
              "      display: none;\n",
              "      fill: #1967D2;\n",
              "      height: 32px;\n",
              "      padding: 0 0 0 0;\n",
              "      width: 32px;\n",
              "    }\n",
              "\n",
              "    .colab-df-convert:hover {\n",
              "      background-color: #E2EBFA;\n",
              "      box-shadow: 0px 1px 2px rgba(60, 64, 67, 0.3), 0px 1px 3px 1px rgba(60, 64, 67, 0.15);\n",
              "      fill: #174EA6;\n",
              "    }\n",
              "\n",
              "    [theme=dark] .colab-df-convert {\n",
              "      background-color: #3B4455;\n",
              "      fill: #D2E3FC;\n",
              "    }\n",
              "\n",
              "    [theme=dark] .colab-df-convert:hover {\n",
              "      background-color: #434B5C;\n",
              "      box-shadow: 0px 1px 3px 1px rgba(0, 0, 0, 0.15);\n",
              "      filter: drop-shadow(0px 1px 2px rgba(0, 0, 0, 0.3));\n",
              "      fill: #FFFFFF;\n",
              "    }\n",
              "  </style>\n",
              "\n",
              "      <script>\n",
              "        const buttonEl =\n",
              "          document.querySelector('#df-a9b46bd9-d084-4dce-b1cd-c22f38d942c4 button.colab-df-convert');\n",
              "        buttonEl.style.display =\n",
              "          google.colab.kernel.accessAllowed ? 'block' : 'none';\n",
              "\n",
              "        async function convertToInteractive(key) {\n",
              "          const element = document.querySelector('#df-a9b46bd9-d084-4dce-b1cd-c22f38d942c4');\n",
              "          const dataTable =\n",
              "            await google.colab.kernel.invokeFunction('convertToInteractive',\n",
              "                                                     [key], {});\n",
              "          if (!dataTable) return;\n",
              "\n",
              "          const docLinkHtml = 'Like what you see? Visit the ' +\n",
              "            '<a target=\"_blank\" href=https://colab.research.google.com/notebooks/data_table.ipynb>data table notebook</a>'\n",
              "            + ' to learn more about interactive tables.';\n",
              "          element.innerHTML = '';\n",
              "          dataTable['output_type'] = 'display_data';\n",
              "          await google.colab.output.renderOutput(dataTable, element);\n",
              "          const docLink = document.createElement('div');\n",
              "          docLink.innerHTML = docLinkHtml;\n",
              "          element.appendChild(docLink);\n",
              "        }\n",
              "      </script>\n",
              "    </div>\n",
              "  </div>\n",
              "  "
            ]
          },
          "metadata": {},
          "execution_count": 6
        }
      ],
      "source": [
        "df_unlab = pd.read_csv(\"/content/unlabelled_test_data.csv\")\n",
        "X1 = df_unlab[\"sentence\"].to_numpy()\n",
        "df_unlab.head()"
      ]
    },
    {
      "cell_type": "markdown",
      "source": [
        "The tensorflow package needs the final labels to be numbers, so we use Ordinal Encoding, wich both encode the CEFR labels into numbers and translates the idea of order into the model."
      ],
      "metadata": {
        "id": "e-NfNz3THjeQ"
      }
    },
    {
      "cell_type": "code",
      "source": [
        "oe = OrdinalEncoder()\n",
        "oe.set_params(categories= [['A1', 'A2', 'B1',\"B2\",\"C1\",\"C2\"]])\n",
        "v = y0.to_numpy().reshape(-1,1)\n",
        "y0=pd.DataFrame(oe.fit_transform(v).reshape(4800),columns=[\"difficulty\"])\n",
        "print(y0.head())\n",
        "oe.categories"
      ],
      "metadata": {
        "colab": {
          "base_uri": "https://localhost:8080/"
        },
        "id": "NUCGqfEnGM5s",
        "outputId": "abbbaf3b-399c-439d-8a85-934b2294e4b3"
      },
      "execution_count": null,
      "outputs": [
        {
          "output_type": "stream",
          "name": "stdout",
          "text": [
            "   difficulty\n",
            "0         4.0\n",
            "1         0.0\n",
            "2         0.0\n",
            "3         0.0\n",
            "4         2.0\n"
          ]
        },
        {
          "output_type": "execute_result",
          "data": {
            "text/plain": [
              "[['A1', 'A2', 'B1', 'B2', 'C1', 'C2']]"
            ]
          },
          "metadata": {},
          "execution_count": 7
        }
      ]
    },
    {
      "cell_type": "markdown",
      "source": [
        "This is the Encoder used to embed the text to vector, it transforms any sentence in a vector containing a total of 512 values, which are used as feaures to develop the predictive model. Below is an example of its working. "
      ],
      "metadata": {
        "id": "KMIYl7LnIIdF"
      }
    },
    {
      "cell_type": "code",
      "source": [
        "embed_1 = hub.load(\"https://tfhub.dev/google/universal-sentence-encoder-multilingual/3\") "
      ],
      "metadata": {
        "id": "ZpjTUOZ9ICn2"
      },
      "execution_count": null,
      "outputs": []
    },
    {
      "cell_type": "code",
      "source": [
        "embed_1([\"bounjour\",\"je suis Victor\",\"je suis Bárbara\"])"
      ],
      "metadata": {
        "colab": {
          "base_uri": "https://localhost:8080/"
        },
        "id": "Hg41pX82GY1L",
        "outputId": "fdb5491e-0955-4d5f-f4f1-9c7d262585bd"
      },
      "execution_count": null,
      "outputs": [
        {
          "output_type": "execute_result",
          "data": {
            "text/plain": [
              "<tf.Tensor: shape=(3, 512), dtype=float32, numpy=\n",
              "array([[ 0.15410367,  0.02259252, -0.06771642, ...,  0.04396355,\n",
              "        -0.00034422,  0.00912832],\n",
              "       [ 0.05661429, -0.0159746 , -0.04966923, ..., -0.03720944,\n",
              "         0.03255781, -0.02770253],\n",
              "       [ 0.04085764, -0.05375427,  0.02218219, ..., -0.04173596,\n",
              "         0.03280498,  0.00813196]], dtype=float32)>"
            ]
          },
          "metadata": {},
          "execution_count": 9
        }
      ]
    },
    {
      "cell_type": "markdown",
      "source": [
        "In order to generate the feature vectors we need to convert the phareses dataframe column into a list, and then apply the transformer to this new data structure. We do this for the labeled data and the unlabeled data as well. "
      ],
      "metadata": {
        "id": "B_A01UsBem8Z"
      }
    },
    {
      "cell_type": "code",
      "source": [
        "a= X0.tolist()\n",
        "b = X1.tolist()"
      ],
      "metadata": {
        "id": "gfYyJctvGatu"
      },
      "execution_count": null,
      "outputs": []
    },
    {
      "cell_type": "code",
      "source": [
        "X = pd.DataFrame(np.concatenate((embed_1(a[0:2000]).numpy(),embed_1(a[2000:4000]).numpy(),embed_1(a[4000:4801]).numpy())))\n",
        "y = y0\n",
        "X.head(3)"
      ],
      "metadata": {
        "colab": {
          "base_uri": "https://localhost:8080/",
          "height": 237
        },
        "id": "h8aQlkY-GcQB",
        "outputId": "1940cae3-8092-44eb-f34c-df08189e1d73"
      },
      "execution_count": null,
      "outputs": [
        {
          "output_type": "execute_result",
          "data": {
            "text/plain": [
              "        0         1         2         3         4         5         6    \\\n",
              "0 -0.076948  0.068267 -0.063916  0.036478  0.020098 -0.036513  0.033314   \n",
              "1 -0.058682  0.016926 -0.080679  0.035441 -0.039885  0.000980 -0.003663   \n",
              "2 -0.011889 -0.002370  0.062653 -0.036361 -0.023909 -0.026624 -0.048723   \n",
              "\n",
              "        7         8         9    ...       502       503       504       505  \\\n",
              "0 -0.036877 -0.009478  0.055526  ...  0.102068 -0.037674 -0.017124 -0.031497   \n",
              "1 -0.054643 -0.073032 -0.014359  ...  0.021383  0.039472 -0.051039 -0.046419   \n",
              "2  0.028527  0.013396 -0.012739  ...  0.032707 -0.018201  0.025419  0.066617   \n",
              "\n",
              "        506       507       508       509       510       511  \n",
              "0  0.007614  0.023139  0.055571  0.013198 -0.000869 -0.051946  \n",
              "1  0.015408  0.002966 -0.058434 -0.005122 -0.050829 -0.012926  \n",
              "2 -0.051649  0.067689  0.022049  0.004865 -0.012903 -0.069997  \n",
              "\n",
              "[3 rows x 512 columns]"
            ],
            "text/html": [
              "\n",
              "  <div id=\"df-406978e0-1cac-4afe-b7a8-11816bc9c4d1\">\n",
              "    <div class=\"colab-df-container\">\n",
              "      <div>\n",
              "<style scoped>\n",
              "    .dataframe tbody tr th:only-of-type {\n",
              "        vertical-align: middle;\n",
              "    }\n",
              "\n",
              "    .dataframe tbody tr th {\n",
              "        vertical-align: top;\n",
              "    }\n",
              "\n",
              "    .dataframe thead th {\n",
              "        text-align: right;\n",
              "    }\n",
              "</style>\n",
              "<table border=\"1\" class=\"dataframe\">\n",
              "  <thead>\n",
              "    <tr style=\"text-align: right;\">\n",
              "      <th></th>\n",
              "      <th>0</th>\n",
              "      <th>1</th>\n",
              "      <th>2</th>\n",
              "      <th>3</th>\n",
              "      <th>4</th>\n",
              "      <th>5</th>\n",
              "      <th>6</th>\n",
              "      <th>7</th>\n",
              "      <th>8</th>\n",
              "      <th>9</th>\n",
              "      <th>...</th>\n",
              "      <th>502</th>\n",
              "      <th>503</th>\n",
              "      <th>504</th>\n",
              "      <th>505</th>\n",
              "      <th>506</th>\n",
              "      <th>507</th>\n",
              "      <th>508</th>\n",
              "      <th>509</th>\n",
              "      <th>510</th>\n",
              "      <th>511</th>\n",
              "    </tr>\n",
              "  </thead>\n",
              "  <tbody>\n",
              "    <tr>\n",
              "      <th>0</th>\n",
              "      <td>-0.076948</td>\n",
              "      <td>0.068267</td>\n",
              "      <td>-0.063916</td>\n",
              "      <td>0.036478</td>\n",
              "      <td>0.020098</td>\n",
              "      <td>-0.036513</td>\n",
              "      <td>0.033314</td>\n",
              "      <td>-0.036877</td>\n",
              "      <td>-0.009478</td>\n",
              "      <td>0.055526</td>\n",
              "      <td>...</td>\n",
              "      <td>0.102068</td>\n",
              "      <td>-0.037674</td>\n",
              "      <td>-0.017124</td>\n",
              "      <td>-0.031497</td>\n",
              "      <td>0.007614</td>\n",
              "      <td>0.023139</td>\n",
              "      <td>0.055571</td>\n",
              "      <td>0.013198</td>\n",
              "      <td>-0.000869</td>\n",
              "      <td>-0.051946</td>\n",
              "    </tr>\n",
              "    <tr>\n",
              "      <th>1</th>\n",
              "      <td>-0.058682</td>\n",
              "      <td>0.016926</td>\n",
              "      <td>-0.080679</td>\n",
              "      <td>0.035441</td>\n",
              "      <td>-0.039885</td>\n",
              "      <td>0.000980</td>\n",
              "      <td>-0.003663</td>\n",
              "      <td>-0.054643</td>\n",
              "      <td>-0.073032</td>\n",
              "      <td>-0.014359</td>\n",
              "      <td>...</td>\n",
              "      <td>0.021383</td>\n",
              "      <td>0.039472</td>\n",
              "      <td>-0.051039</td>\n",
              "      <td>-0.046419</td>\n",
              "      <td>0.015408</td>\n",
              "      <td>0.002966</td>\n",
              "      <td>-0.058434</td>\n",
              "      <td>-0.005122</td>\n",
              "      <td>-0.050829</td>\n",
              "      <td>-0.012926</td>\n",
              "    </tr>\n",
              "    <tr>\n",
              "      <th>2</th>\n",
              "      <td>-0.011889</td>\n",
              "      <td>-0.002370</td>\n",
              "      <td>0.062653</td>\n",
              "      <td>-0.036361</td>\n",
              "      <td>-0.023909</td>\n",
              "      <td>-0.026624</td>\n",
              "      <td>-0.048723</td>\n",
              "      <td>0.028527</td>\n",
              "      <td>0.013396</td>\n",
              "      <td>-0.012739</td>\n",
              "      <td>...</td>\n",
              "      <td>0.032707</td>\n",
              "      <td>-0.018201</td>\n",
              "      <td>0.025419</td>\n",
              "      <td>0.066617</td>\n",
              "      <td>-0.051649</td>\n",
              "      <td>0.067689</td>\n",
              "      <td>0.022049</td>\n",
              "      <td>0.004865</td>\n",
              "      <td>-0.012903</td>\n",
              "      <td>-0.069997</td>\n",
              "    </tr>\n",
              "  </tbody>\n",
              "</table>\n",
              "<p>3 rows × 512 columns</p>\n",
              "</div>\n",
              "      <button class=\"colab-df-convert\" onclick=\"convertToInteractive('df-406978e0-1cac-4afe-b7a8-11816bc9c4d1')\"\n",
              "              title=\"Convert this dataframe to an interactive table.\"\n",
              "              style=\"display:none;\">\n",
              "        \n",
              "  <svg xmlns=\"http://www.w3.org/2000/svg\" height=\"24px\"viewBox=\"0 0 24 24\"\n",
              "       width=\"24px\">\n",
              "    <path d=\"M0 0h24v24H0V0z\" fill=\"none\"/>\n",
              "    <path d=\"M18.56 5.44l.94 2.06.94-2.06 2.06-.94-2.06-.94-.94-2.06-.94 2.06-2.06.94zm-11 1L8.5 8.5l.94-2.06 2.06-.94-2.06-.94L8.5 2.5l-.94 2.06-2.06.94zm10 10l.94 2.06.94-2.06 2.06-.94-2.06-.94-.94-2.06-.94 2.06-2.06.94z\"/><path d=\"M17.41 7.96l-1.37-1.37c-.4-.4-.92-.59-1.43-.59-.52 0-1.04.2-1.43.59L10.3 9.45l-7.72 7.72c-.78.78-.78 2.05 0 2.83L4 21.41c.39.39.9.59 1.41.59.51 0 1.02-.2 1.41-.59l7.78-7.78 2.81-2.81c.8-.78.8-2.07 0-2.86zM5.41 20L4 18.59l7.72-7.72 1.47 1.35L5.41 20z\"/>\n",
              "  </svg>\n",
              "      </button>\n",
              "      \n",
              "  <style>\n",
              "    .colab-df-container {\n",
              "      display:flex;\n",
              "      flex-wrap:wrap;\n",
              "      gap: 12px;\n",
              "    }\n",
              "\n",
              "    .colab-df-convert {\n",
              "      background-color: #E8F0FE;\n",
              "      border: none;\n",
              "      border-radius: 50%;\n",
              "      cursor: pointer;\n",
              "      display: none;\n",
              "      fill: #1967D2;\n",
              "      height: 32px;\n",
              "      padding: 0 0 0 0;\n",
              "      width: 32px;\n",
              "    }\n",
              "\n",
              "    .colab-df-convert:hover {\n",
              "      background-color: #E2EBFA;\n",
              "      box-shadow: 0px 1px 2px rgba(60, 64, 67, 0.3), 0px 1px 3px 1px rgba(60, 64, 67, 0.15);\n",
              "      fill: #174EA6;\n",
              "    }\n",
              "\n",
              "    [theme=dark] .colab-df-convert {\n",
              "      background-color: #3B4455;\n",
              "      fill: #D2E3FC;\n",
              "    }\n",
              "\n",
              "    [theme=dark] .colab-df-convert:hover {\n",
              "      background-color: #434B5C;\n",
              "      box-shadow: 0px 1px 3px 1px rgba(0, 0, 0, 0.15);\n",
              "      filter: drop-shadow(0px 1px 2px rgba(0, 0, 0, 0.3));\n",
              "      fill: #FFFFFF;\n",
              "    }\n",
              "  </style>\n",
              "\n",
              "      <script>\n",
              "        const buttonEl =\n",
              "          document.querySelector('#df-406978e0-1cac-4afe-b7a8-11816bc9c4d1 button.colab-df-convert');\n",
              "        buttonEl.style.display =\n",
              "          google.colab.kernel.accessAllowed ? 'block' : 'none';\n",
              "\n",
              "        async function convertToInteractive(key) {\n",
              "          const element = document.querySelector('#df-406978e0-1cac-4afe-b7a8-11816bc9c4d1');\n",
              "          const dataTable =\n",
              "            await google.colab.kernel.invokeFunction('convertToInteractive',\n",
              "                                                     [key], {});\n",
              "          if (!dataTable) return;\n",
              "\n",
              "          const docLinkHtml = 'Like what you see? Visit the ' +\n",
              "            '<a target=\"_blank\" href=https://colab.research.google.com/notebooks/data_table.ipynb>data table notebook</a>'\n",
              "            + ' to learn more about interactive tables.';\n",
              "          element.innerHTML = '';\n",
              "          dataTable['output_type'] = 'display_data';\n",
              "          await google.colab.output.renderOutput(dataTable, element);\n",
              "          const docLink = document.createElement('div');\n",
              "          docLink.innerHTML = docLinkHtml;\n",
              "          element.appendChild(docLink);\n",
              "        }\n",
              "      </script>\n",
              "    </div>\n",
              "  </div>\n",
              "  "
            ]
          },
          "metadata": {},
          "execution_count": 11
        }
      ]
    },
    {
      "cell_type": "code",
      "source": [
        "X_unlab= pd.DataFrame(embed_1(b[0:1201]).numpy())\n",
        "X_unlab.head(3)"
      ],
      "metadata": {
        "colab": {
          "base_uri": "https://localhost:8080/",
          "height": 237
        },
        "id": "95Tl_RcZGeJx",
        "outputId": "03a47776-3d9f-4a57-eb56-989a9fe4d91c"
      },
      "execution_count": null,
      "outputs": [
        {
          "output_type": "execute_result",
          "data": {
            "text/plain": [
              "        0         1         2         3         4         5         6    \\\n",
              "0 -0.034290 -0.010744 -0.029123 -0.003844  0.061831  0.032971  0.014195   \n",
              "1  0.032688 -0.041312 -0.024782  0.001032 -0.113101  0.016476  0.034519   \n",
              "2 -0.053744 -0.037155  0.043402  0.014010  0.078404  0.011575 -0.091309   \n",
              "\n",
              "        7         8         9    ...       502       503       504       505  \\\n",
              "0  0.077017  0.015406  0.017614  ... -0.030730  0.032611  0.002972 -0.044229   \n",
              "1  0.015644 -0.105159 -0.051077  ...  0.021044 -0.018432 -0.043395  0.026769   \n",
              "2 -0.057628 -0.020308  0.079215  ... -0.056173  0.064812 -0.023039 -0.033962   \n",
              "\n",
              "        506       507       508       509       510       511  \n",
              "0 -0.020724 -0.035705 -0.007965  0.040871 -0.005444  0.035547  \n",
              "1 -0.025460 -0.058796  0.053560 -0.089027  0.006905  0.012517  \n",
              "2 -0.014347 -0.067600 -0.063112  0.019112 -0.027499  0.053020  \n",
              "\n",
              "[3 rows x 512 columns]"
            ],
            "text/html": [
              "\n",
              "  <div id=\"df-25f8d221-c8a6-4ceb-915c-32d2bd638d3e\">\n",
              "    <div class=\"colab-df-container\">\n",
              "      <div>\n",
              "<style scoped>\n",
              "    .dataframe tbody tr th:only-of-type {\n",
              "        vertical-align: middle;\n",
              "    }\n",
              "\n",
              "    .dataframe tbody tr th {\n",
              "        vertical-align: top;\n",
              "    }\n",
              "\n",
              "    .dataframe thead th {\n",
              "        text-align: right;\n",
              "    }\n",
              "</style>\n",
              "<table border=\"1\" class=\"dataframe\">\n",
              "  <thead>\n",
              "    <tr style=\"text-align: right;\">\n",
              "      <th></th>\n",
              "      <th>0</th>\n",
              "      <th>1</th>\n",
              "      <th>2</th>\n",
              "      <th>3</th>\n",
              "      <th>4</th>\n",
              "      <th>5</th>\n",
              "      <th>6</th>\n",
              "      <th>7</th>\n",
              "      <th>8</th>\n",
              "      <th>9</th>\n",
              "      <th>...</th>\n",
              "      <th>502</th>\n",
              "      <th>503</th>\n",
              "      <th>504</th>\n",
              "      <th>505</th>\n",
              "      <th>506</th>\n",
              "      <th>507</th>\n",
              "      <th>508</th>\n",
              "      <th>509</th>\n",
              "      <th>510</th>\n",
              "      <th>511</th>\n",
              "    </tr>\n",
              "  </thead>\n",
              "  <tbody>\n",
              "    <tr>\n",
              "      <th>0</th>\n",
              "      <td>-0.034290</td>\n",
              "      <td>-0.010744</td>\n",
              "      <td>-0.029123</td>\n",
              "      <td>-0.003844</td>\n",
              "      <td>0.061831</td>\n",
              "      <td>0.032971</td>\n",
              "      <td>0.014195</td>\n",
              "      <td>0.077017</td>\n",
              "      <td>0.015406</td>\n",
              "      <td>0.017614</td>\n",
              "      <td>...</td>\n",
              "      <td>-0.030730</td>\n",
              "      <td>0.032611</td>\n",
              "      <td>0.002972</td>\n",
              "      <td>-0.044229</td>\n",
              "      <td>-0.020724</td>\n",
              "      <td>-0.035705</td>\n",
              "      <td>-0.007965</td>\n",
              "      <td>0.040871</td>\n",
              "      <td>-0.005444</td>\n",
              "      <td>0.035547</td>\n",
              "    </tr>\n",
              "    <tr>\n",
              "      <th>1</th>\n",
              "      <td>0.032688</td>\n",
              "      <td>-0.041312</td>\n",
              "      <td>-0.024782</td>\n",
              "      <td>0.001032</td>\n",
              "      <td>-0.113101</td>\n",
              "      <td>0.016476</td>\n",
              "      <td>0.034519</td>\n",
              "      <td>0.015644</td>\n",
              "      <td>-0.105159</td>\n",
              "      <td>-0.051077</td>\n",
              "      <td>...</td>\n",
              "      <td>0.021044</td>\n",
              "      <td>-0.018432</td>\n",
              "      <td>-0.043395</td>\n",
              "      <td>0.026769</td>\n",
              "      <td>-0.025460</td>\n",
              "      <td>-0.058796</td>\n",
              "      <td>0.053560</td>\n",
              "      <td>-0.089027</td>\n",
              "      <td>0.006905</td>\n",
              "      <td>0.012517</td>\n",
              "    </tr>\n",
              "    <tr>\n",
              "      <th>2</th>\n",
              "      <td>-0.053744</td>\n",
              "      <td>-0.037155</td>\n",
              "      <td>0.043402</td>\n",
              "      <td>0.014010</td>\n",
              "      <td>0.078404</td>\n",
              "      <td>0.011575</td>\n",
              "      <td>-0.091309</td>\n",
              "      <td>-0.057628</td>\n",
              "      <td>-0.020308</td>\n",
              "      <td>0.079215</td>\n",
              "      <td>...</td>\n",
              "      <td>-0.056173</td>\n",
              "      <td>0.064812</td>\n",
              "      <td>-0.023039</td>\n",
              "      <td>-0.033962</td>\n",
              "      <td>-0.014347</td>\n",
              "      <td>-0.067600</td>\n",
              "      <td>-0.063112</td>\n",
              "      <td>0.019112</td>\n",
              "      <td>-0.027499</td>\n",
              "      <td>0.053020</td>\n",
              "    </tr>\n",
              "  </tbody>\n",
              "</table>\n",
              "<p>3 rows × 512 columns</p>\n",
              "</div>\n",
              "      <button class=\"colab-df-convert\" onclick=\"convertToInteractive('df-25f8d221-c8a6-4ceb-915c-32d2bd638d3e')\"\n",
              "              title=\"Convert this dataframe to an interactive table.\"\n",
              "              style=\"display:none;\">\n",
              "        \n",
              "  <svg xmlns=\"http://www.w3.org/2000/svg\" height=\"24px\"viewBox=\"0 0 24 24\"\n",
              "       width=\"24px\">\n",
              "    <path d=\"M0 0h24v24H0V0z\" fill=\"none\"/>\n",
              "    <path d=\"M18.56 5.44l.94 2.06.94-2.06 2.06-.94-2.06-.94-.94-2.06-.94 2.06-2.06.94zm-11 1L8.5 8.5l.94-2.06 2.06-.94-2.06-.94L8.5 2.5l-.94 2.06-2.06.94zm10 10l.94 2.06.94-2.06 2.06-.94-2.06-.94-.94-2.06-.94 2.06-2.06.94z\"/><path d=\"M17.41 7.96l-1.37-1.37c-.4-.4-.92-.59-1.43-.59-.52 0-1.04.2-1.43.59L10.3 9.45l-7.72 7.72c-.78.78-.78 2.05 0 2.83L4 21.41c.39.39.9.59 1.41.59.51 0 1.02-.2 1.41-.59l7.78-7.78 2.81-2.81c.8-.78.8-2.07 0-2.86zM5.41 20L4 18.59l7.72-7.72 1.47 1.35L5.41 20z\"/>\n",
              "  </svg>\n",
              "      </button>\n",
              "      \n",
              "  <style>\n",
              "    .colab-df-container {\n",
              "      display:flex;\n",
              "      flex-wrap:wrap;\n",
              "      gap: 12px;\n",
              "    }\n",
              "\n",
              "    .colab-df-convert {\n",
              "      background-color: #E8F0FE;\n",
              "      border: none;\n",
              "      border-radius: 50%;\n",
              "      cursor: pointer;\n",
              "      display: none;\n",
              "      fill: #1967D2;\n",
              "      height: 32px;\n",
              "      padding: 0 0 0 0;\n",
              "      width: 32px;\n",
              "    }\n",
              "\n",
              "    .colab-df-convert:hover {\n",
              "      background-color: #E2EBFA;\n",
              "      box-shadow: 0px 1px 2px rgba(60, 64, 67, 0.3), 0px 1px 3px 1px rgba(60, 64, 67, 0.15);\n",
              "      fill: #174EA6;\n",
              "    }\n",
              "\n",
              "    [theme=dark] .colab-df-convert {\n",
              "      background-color: #3B4455;\n",
              "      fill: #D2E3FC;\n",
              "    }\n",
              "\n",
              "    [theme=dark] .colab-df-convert:hover {\n",
              "      background-color: #434B5C;\n",
              "      box-shadow: 0px 1px 3px 1px rgba(0, 0, 0, 0.15);\n",
              "      filter: drop-shadow(0px 1px 2px rgba(0, 0, 0, 0.3));\n",
              "      fill: #FFFFFF;\n",
              "    }\n",
              "  </style>\n",
              "\n",
              "      <script>\n",
              "        const buttonEl =\n",
              "          document.querySelector('#df-25f8d221-c8a6-4ceb-915c-32d2bd638d3e button.colab-df-convert');\n",
              "        buttonEl.style.display =\n",
              "          google.colab.kernel.accessAllowed ? 'block' : 'none';\n",
              "\n",
              "        async function convertToInteractive(key) {\n",
              "          const element = document.querySelector('#df-25f8d221-c8a6-4ceb-915c-32d2bd638d3e');\n",
              "          const dataTable =\n",
              "            await google.colab.kernel.invokeFunction('convertToInteractive',\n",
              "                                                     [key], {});\n",
              "          if (!dataTable) return;\n",
              "\n",
              "          const docLinkHtml = 'Like what you see? Visit the ' +\n",
              "            '<a target=\"_blank\" href=https://colab.research.google.com/notebooks/data_table.ipynb>data table notebook</a>'\n",
              "            + ' to learn more about interactive tables.';\n",
              "          element.innerHTML = '';\n",
              "          dataTable['output_type'] = 'display_data';\n",
              "          await google.colab.output.renderOutput(dataTable, element);\n",
              "          const docLink = document.createElement('div');\n",
              "          docLink.innerHTML = docLinkHtml;\n",
              "          element.appendChild(docLink);\n",
              "        }\n",
              "      </script>\n",
              "    </div>\n",
              "  </div>\n",
              "  "
            ]
          },
          "metadata": {},
          "execution_count": 12
        }
      ]
    },
    {
      "cell_type": "markdown",
      "source": [
        "Now we perform the train,validation and test split in order to better train the model."
      ],
      "metadata": {
        "id": "sxQfs5TfDybR"
      }
    },
    {
      "cell_type": "code",
      "source": [
        "X_train, X_temp, y_train, y_temp = train_test_split(X, y, test_size=0.2, random_state=0)\n",
        "X_valid, X_test, y_valid, y_test = train_test_split(X_temp, y_temp, test_size=0.4, random_state=0)\n",
        "\n",
        "X_train.shape,X_test.shape,X_valid.shape\n",
        "\n"
      ],
      "metadata": {
        "colab": {
          "base_uri": "https://localhost:8080/"
        },
        "id": "ktDsbEnIG3Vd",
        "outputId": "68c16b8d-d74d-4b1d-daed-1e3d794fb3aa"
      },
      "execution_count": null,
      "outputs": [
        {
          "output_type": "execute_result",
          "data": {
            "text/plain": [
              "((3840, 512), (384, 512), (576, 512))"
            ]
          },
          "metadata": {},
          "execution_count": 13
        }
      ]
    },
    {
      "cell_type": "code",
      "source": [
        "def df_to_dataset(dataframe,y_t, shuffle=True, batch_size=30):\n",
        "  df = dataframe.copy()\n",
        "  #labels = df.pop('difficulty')\n",
        "  df = df\n",
        "  ds = tf.data.Dataset.from_tensor_slices((df, y_t))\n",
        "  if shuffle:\n",
        "    ds = ds.shuffle(buffer_size=len(dataframe))\n",
        "  ds = ds.batch(batch_size)\n",
        "  ds = ds.prefetch(tf.data.AUTOTUNE)\n",
        "  return ds"
      ],
      "metadata": {
        "id": "Q2jUlHUyG5Hv"
      },
      "execution_count": null,
      "outputs": []
    },
    {
      "cell_type": "code",
      "source": [
        "bs = 5 # 15 foi um valor muito bom\n",
        "x_tr = df_to_dataset(X_train,y_t=y_train,shuffle=True,batch_size = bs)\n",
        "x_te = df_to_dataset(X_test,y_t=y_test,shuffle=True,batch_size = bs)\n",
        "x_va = df_to_dataset(X_valid,y_t=y_valid,shuffle=True,batch_size = bs)"
      ],
      "metadata": {
        "id": "PQxmjK1DG7H6"
      },
      "execution_count": null,
      "outputs": []
    },
    {
      "cell_type": "markdown",
      "metadata": {
        "id": "z-8_3MK1rpZr"
      },
      "source": [
        "## Neural Networks\n",
        "\n",
        "This model architecture was developed afeter trial and errors attempts. It is composed of 3 interspread layers of dense neurons and dropout layers, followed by a layer of six neurons (one for each label) activated by a sigmoid function  "
      ]
    },
    {
      "cell_type": "code",
      "execution_count": null,
      "metadata": {
        "id": "eEe3-QNlow4H"
      },
      "outputs": [],
      "source": [
        "\n",
        "model = tf.keras.Sequential([\n",
        "                            tf.keras.layers.Dense(1064,activation=\"relu\"),\n",
        "                            tf.keras.layers.Dropout(0.6),\n",
        "                            tf.keras.layers.Dense(516,activation=\"relu\"),\n",
        "                            tf.keras.layers.Dropout(0.6),\n",
        "                            tf.keras.layers.Dense(64,activation=\"relu\"),\n",
        "                            tf.keras.layers.Dropout(0.4),\n",
        "                            tf.keras.layers.Dense(6,activation = \"sigmoid\") \n",
        "                            \n",
        "                            ])"
      ]
    },
    {
      "cell_type": "markdown",
      "source": [
        "In this section we compile the model by defining an optimzer, a loss function, and the metric(s) that we want to follow during the training process."
      ],
      "metadata": {
        "id": "9SagSjIzFiTs"
      }
    },
    {
      "cell_type": "code",
      "source": [
        "model.compile(optimizer = tf.keras.optimizers.Adam(learning_rate = 0.0001),loss = \"SparseCategoricalCrossentropy\",\n",
        "              metrics = [\"accuracy\"]\n",
        "              )"
      ],
      "metadata": {
        "id": "GpktJ8_IJQs4"
      },
      "execution_count": null,
      "outputs": []
    },
    {
      "cell_type": "code",
      "source": [
        "def plot_graphs(history, metric):\n",
        "  plt.plot(history.history[metric])\n",
        "  plt.plot(history.history['val_'+metric], '')\n",
        "  plt.xlabel(\"Epochs\")\n",
        "  plt.ylabel(metric)\n",
        "  plt.legend([metric, 'val_'+metric])"
      ],
      "metadata": {
        "id": "z5HaHpEsJTUc"
      },
      "execution_count": null,
      "outputs": []
    },
    {
      "cell_type": "markdown",
      "source": [
        "Now the number of epochs are defined in order to train the model for a specific ammount of times. "
      ],
      "metadata": {
        "id": "-ABZLollFhEb"
      }
    },
    {
      "cell_type": "code",
      "source": [
        "history = model.fit(x_tr,epochs = 15,validation_data = x_va)\n",
        "plt.figure(figsize=(16, 8))\n",
        "plt.subplot(1, 2, 1)\n",
        "plot_graphs(history, 'accuracy')\n",
        "\n",
        "plt.subplot(1, 2, 2)\n",
        "plot_graphs(history, 'loss')\n",
        "plt.show()"
      ],
      "metadata": {
        "colab": {
          "base_uri": "https://localhost:8080/",
          "height": 1000
        },
        "id": "JY_ekT3bJYP4",
        "outputId": "0d7643b1-35c4-4716-f4ec-9e79f9c43338"
      },
      "execution_count": null,
      "outputs": [
        {
          "output_type": "stream",
          "name": "stdout",
          "text": [
            "Epoch 1/15\n",
            "768/768 [==============================] - 36s 45ms/step - loss: 1.7653 - accuracy: 0.2326 - val_loss: 1.6469 - val_accuracy: 0.3733\n",
            "Epoch 2/15\n",
            "768/768 [==============================] - 35s 45ms/step - loss: 1.4907 - accuracy: 0.3557 - val_loss: 1.2845 - val_accuracy: 0.4375\n",
            "Epoch 3/15\n",
            "768/768 [==============================] - 38s 50ms/step - loss: 1.3145 - accuracy: 0.4125 - val_loss: 1.2038 - val_accuracy: 0.5000\n",
            "Epoch 4/15\n",
            "768/768 [==============================] - 33s 43ms/step - loss: 1.2387 - accuracy: 0.4508 - val_loss: 1.1623 - val_accuracy: 0.5226\n",
            "Epoch 5/15\n",
            "768/768 [==============================] - 43s 56ms/step - loss: 1.1748 - accuracy: 0.4904 - val_loss: 1.1324 - val_accuracy: 0.5278\n",
            "Epoch 6/15\n",
            "768/768 [==============================] - 41s 53ms/step - loss: 1.1250 - accuracy: 0.5169 - val_loss: 1.1153 - val_accuracy: 0.5191\n",
            "Epoch 7/15\n",
            "768/768 [==============================] - 41s 54ms/step - loss: 1.0839 - accuracy: 0.5432 - val_loss: 1.1007 - val_accuracy: 0.5243\n",
            "Epoch 8/15\n",
            "768/768 [==============================] - 40s 52ms/step - loss: 1.0377 - accuracy: 0.5622 - val_loss: 1.0932 - val_accuracy: 0.5347\n",
            "Epoch 9/15\n",
            "768/768 [==============================] - 40s 52ms/step - loss: 1.0002 - accuracy: 0.5898 - val_loss: 1.0906 - val_accuracy: 0.5382\n",
            "Epoch 10/15\n",
            "768/768 [==============================] - 42s 55ms/step - loss: 0.9439 - accuracy: 0.6146 - val_loss: 1.0959 - val_accuracy: 0.5312\n",
            "Epoch 11/15\n",
            "768/768 [==============================] - 49s 63ms/step - loss: 0.9200 - accuracy: 0.6336 - val_loss: 1.0910 - val_accuracy: 0.5399\n",
            "Epoch 12/15\n",
            "768/768 [==============================] - 40s 52ms/step - loss: 0.8594 - accuracy: 0.6581 - val_loss: 1.1001 - val_accuracy: 0.5486\n",
            "Epoch 13/15\n",
            "768/768 [==============================] - 46s 60ms/step - loss: 0.8414 - accuracy: 0.6620 - val_loss: 1.1024 - val_accuracy: 0.5347\n",
            "Epoch 14/15\n",
            "768/768 [==============================] - 34s 45ms/step - loss: 0.7781 - accuracy: 0.6932 - val_loss: 1.1299 - val_accuracy: 0.5330\n",
            "Epoch 15/15\n",
            "768/768 [==============================] - 37s 48ms/step - loss: 0.7422 - accuracy: 0.7102 - val_loss: 1.1265 - val_accuracy: 0.5260\n"
          ]
        },
        {
          "output_type": "display_data",
          "data": {
            "text/plain": [
              "<Figure size 1152x576 with 2 Axes>"
            ],
            "image/png": "[encoded data removed]"
          },
          "metadata": {}
        }
      ]
    },
    {
      "cell_type": "code",
      "execution_count": null,
      "metadata": {
        "id": "wX5AjvvKr_nW"
      },
      "outputs": [],
      "source": [
        "def evaluate(true, pred):\n",
        "    global precision,recall,f1\n",
        "    precision = precision_score(true, pred, average='weighted')\n",
        "    recall = recall_score(true, pred, average='weighted')\n",
        "    f1 = f1_score(true, pred, average='weighted')\n",
        "    print(f\"CONFUSION MATRIX:\\n{confusion_matrix(true, pred)}\")\n",
        "    print(f\"ACCURACY SCORE:\\n{accuracy_score(true, pred):.4f}\")\n",
        "    print(f\"CLASSIFICATION REPORT:\\n\\tPrecision: {precision:.4f}\\n\\tRecall: {recall:.4f}\\n\\tF1_Score: {f1:.4f}\")"
      ]
    },
    {
      "cell_type": "code",
      "execution_count": null,
      "metadata": {
        "colab": {
          "base_uri": "https://localhost:8080/"
        },
        "id": "Vl8hFDmnZMsZ",
        "outputId": "e381ee58-e0a3-45ab-c362-18fc302c6ebc"
      },
      "outputs": [
        {
          "output_type": "stream",
          "name": "stdout",
          "text": [
            "77/77 [==============================] - 2s 22ms/step - loss: 1.2135 - accuracy: 0.5339\n"
          ]
        },
        {
          "output_type": "execute_result",
          "data": {
            "text/plain": [
              "[1.2134504318237305, 0.5338541865348816]"
            ]
          },
          "metadata": {},
          "execution_count": 27
        }
      ],
      "source": [
        "model.evaluate(x_te)"
      ]
    },
    {
      "cell_type": "code",
      "execution_count": null,
      "metadata": {
        "colab": {
          "base_uri": "https://localhost:8080/"
        },
        "id": "O9lXBFIk62D7",
        "outputId": "76828c0b-4bee-4728-cd95-ad18084a0ee6"
      },
      "outputs": [
        {
          "output_type": "stream",
          "name": "stdout",
          "text": [
            "38/38 [==============================] - 1s 27ms/step\n"
          ]
        },
        {
          "output_type": "execute_result",
          "data": {
            "text/plain": [
              "5"
            ]
          },
          "metadata": {},
          "execution_count": 29
        }
      ],
      "source": [
        "pred = model.predict(X_unlab)\n",
        "pred\n",
        "pred[0].argmax()"
      ]
    },
    {
      "cell_type": "code",
      "execution_count": null,
      "metadata": {
        "colab": {
          "base_uri": "https://localhost:8080/",
          "height": 206
        },
        "id": "lMRKyj269jM0",
        "outputId": "2b4bf176-a4ee-4278-8d62-e4449e3f1a3d"
      },
      "outputs": [
        {
          "output_type": "execute_result",
          "data": {
            "text/plain": [
              "   id difficulty\n",
              "0   0         C2\n",
              "1   1         A2\n",
              "2   2         B1\n",
              "3   3         A2\n",
              "4   4         C2"
            ],
            "text/html": [
              "\n",
              "  <div id=\"df-7da0fb6c-3c22-4444-bd26-4acaa864de5c\">\n",
              "    <div class=\"colab-df-container\">\n",
              "      <div>\n",
              "<style scoped>\n",
              "    .dataframe tbody tr th:only-of-type {\n",
              "        vertical-align: middle;\n",
              "    }\n",
              "\n",
              "    .dataframe tbody tr th {\n",
              "        vertical-align: top;\n",
              "    }\n",
              "\n",
              "    .dataframe thead th {\n",
              "        text-align: right;\n",
              "    }\n",
              "</style>\n",
              "<table border=\"1\" class=\"dataframe\">\n",
              "  <thead>\n",
              "    <tr style=\"text-align: right;\">\n",
              "      <th></th>\n",
              "      <th>id</th>\n",
              "      <th>difficulty</th>\n",
              "    </tr>\n",
              "  </thead>\n",
              "  <tbody>\n",
              "    <tr>\n",
              "      <th>0</th>\n",
              "      <td>0</td>\n",
              "      <td>C2</td>\n",
              "    </tr>\n",
              "    <tr>\n",
              "      <th>1</th>\n",
              "      <td>1</td>\n",
              "      <td>A2</td>\n",
              "    </tr>\n",
              "    <tr>\n",
              "      <th>2</th>\n",
              "      <td>2</td>\n",
              "      <td>B1</td>\n",
              "    </tr>\n",
              "    <tr>\n",
              "      <th>3</th>\n",
              "      <td>3</td>\n",
              "      <td>A2</td>\n",
              "    </tr>\n",
              "    <tr>\n",
              "      <th>4</th>\n",
              "      <td>4</td>\n",
              "      <td>C2</td>\n",
              "    </tr>\n",
              "  </tbody>\n",
              "</table>\n",
              "</div>\n",
              "      <button class=\"colab-df-convert\" onclick=\"convertToInteractive('df-7da0fb6c-3c22-4444-bd26-4acaa864de5c')\"\n",
              "              title=\"Convert this dataframe to an interactive table.\"\n",
              "              style=\"display:none;\">\n",
              "        \n",
              "  <svg xmlns=\"http://www.w3.org/2000/svg\" height=\"24px\"viewBox=\"0 0 24 24\"\n",
              "       width=\"24px\">\n",
              "    <path d=\"M0 0h24v24H0V0z\" fill=\"none\"/>\n",
              "    <path d=\"M18.56 5.44l.94 2.06.94-2.06 2.06-.94-2.06-.94-.94-2.06-.94 2.06-2.06.94zm-11 1L8.5 8.5l.94-2.06 2.06-.94-2.06-.94L8.5 2.5l-.94 2.06-2.06.94zm10 10l.94 2.06.94-2.06 2.06-.94-2.06-.94-.94-2.06-.94 2.06-2.06.94z\"/><path d=\"M17.41 7.96l-1.37-1.37c-.4-.4-.92-.59-1.43-.59-.52 0-1.04.2-1.43.59L10.3 9.45l-7.72 7.72c-.78.78-.78 2.05 0 2.83L4 21.41c.39.39.9.59 1.41.59.51 0 1.02-.2 1.41-.59l7.78-7.78 2.81-2.81c.8-.78.8-2.07 0-2.86zM5.41 20L4 18.59l7.72-7.72 1.47 1.35L5.41 20z\"/>\n",
              "  </svg>\n",
              "      </button>\n",
              "      \n",
              "  <style>\n",
              "    .colab-df-container {\n",
              "      display:flex;\n",
              "      flex-wrap:wrap;\n",
              "      gap: 12px;\n",
              "    }\n",
              "\n",
              "    .colab-df-convert {\n",
              "      background-color: #E8F0FE;\n",
              "      border: none;\n",
              "      border-radius: 50%;\n",
              "      cursor: pointer;\n",
              "      display: none;\n",
              "      fill: #1967D2;\n",
              "      height: 32px;\n",
              "      padding: 0 0 0 0;\n",
              "      width: 32px;\n",
              "    }\n",
              "\n",
              "    .colab-df-convert:hover {\n",
              "      background-color: #E2EBFA;\n",
              "      box-shadow: 0px 1px 2px rgba(60, 64, 67, 0.3), 0px 1px 3px 1px rgba(60, 64, 67, 0.15);\n",
              "      fill: #174EA6;\n",
              "    }\n",
              "\n",
              "    [theme=dark] .colab-df-convert {\n",
              "      background-color: #3B4455;\n",
              "      fill: #D2E3FC;\n",
              "    }\n",
              "\n",
              "    [theme=dark] .colab-df-convert:hover {\n",
              "      background-color: #434B5C;\n",
              "      box-shadow: 0px 1px 3px 1px rgba(0, 0, 0, 0.15);\n",
              "      filter: drop-shadow(0px 1px 2px rgba(0, 0, 0, 0.3));\n",
              "      fill: #FFFFFF;\n",
              "    }\n",
              "  </style>\n",
              "\n",
              "      <script>\n",
              "        const buttonEl =\n",
              "          document.querySelector('#df-7da0fb6c-3c22-4444-bd26-4acaa864de5c button.colab-df-convert');\n",
              "        buttonEl.style.display =\n",
              "          google.colab.kernel.accessAllowed ? 'block' : 'none';\n",
              "\n",
              "        async function convertToInteractive(key) {\n",
              "          const element = document.querySelector('#df-7da0fb6c-3c22-4444-bd26-4acaa864de5c');\n",
              "          const dataTable =\n",
              "            await google.colab.kernel.invokeFunction('convertToInteractive',\n",
              "                                                     [key], {});\n",
              "          if (!dataTable) return;\n",
              "\n",
              "          const docLinkHtml = 'Like what you see? Visit the ' +\n",
              "            '<a target=\"_blank\" href=https://colab.research.google.com/notebooks/data_table.ipynb>data table notebook</a>'\n",
              "            + ' to learn more about interactive tables.';\n",
              "          element.innerHTML = '';\n",
              "          dataTable['output_type'] = 'display_data';\n",
              "          await google.colab.output.renderOutput(dataTable, element);\n",
              "          const docLink = document.createElement('div');\n",
              "          docLink.innerHTML = docLinkHtml;\n",
              "          element.appendChild(docLink);\n",
              "        }\n",
              "      </script>\n",
              "    </div>\n",
              "  </div>\n",
              "  "
            ]
          },
          "metadata": {},
          "execution_count": 30
        }
      ],
      "source": [
        "labels = pd.DataFrame(np.argmax(pred,axis=1),columns=[\"difficulty\"])\n",
        "labels[\"difficulty\"] = labels[\"difficulty\"].map({0:\"A1\",1:\"A2\",2:\"B1\",3:\"B2\",4:\"C1\",5:\"C2\"})\n",
        "labels[\"id\"] = labels.index\n",
        "labels=labels[[\"id\",\"difficulty\"]]\n",
        "labels.head()"
      ]
    },
    {
      "cell_type": "code",
      "source": [
        "pred_ = model.predict(X_test)\n",
        "pred_\n",
        "labels_ = pd.DataFrame(np.argmax(pred_,axis=1),columns=[\"difficulty\"])"
      ],
      "metadata": {
        "colab": {
          "base_uri": "https://localhost:8080/"
        },
        "id": "r4TKy3zmMZnc",
        "outputId": "f0a6b127-c116-4aa6-fd46-d321b0d93dba"
      },
      "execution_count": null,
      "outputs": [
        {
          "output_type": "stream",
          "name": "stdout",
          "text": [
            "12/12 [==============================] - 0s 29ms/step\n"
          ]
        }
      ]
    },
    {
      "cell_type": "code",
      "source": [
        "evaluate(y_test,labels_[\"difficulty\"])\n"
      ],
      "metadata": {
        "colab": {
          "base_uri": "https://localhost:8080/"
        },
        "id": "P5Qw6jfeLc_c",
        "outputId": "fab46ca0-f5cc-4e24-9f59-4e0a2e2acb2b"
      },
      "execution_count": null,
      "outputs": [
        {
          "output_type": "stream",
          "name": "stdout",
          "text": [
            "CONFUSION MATRIX:\n",
            "[[52  5  4  1  1  1]\n",
            " [20 18 20  3  0  1]\n",
            " [ 2  8 41  9  2  2]\n",
            " [ 0  1  6 32  9  9]\n",
            " [ 3  1  1 15 31 20]\n",
            " [ 4  0  8 10 12 32]]\n",
            "ACCURACY SCORE:\n",
            "0.5365\n",
            "CLASSIFICATION REPORT:\n",
            "\tPrecision: 0.5372\n",
            "\tRecall: 0.5365\n",
            "\tF1_Score: 0.5254\n"
          ]
        }
      ]
    },
    {
      "cell_type": "code",
      "execution_count": null,
      "metadata": {
        "id": "s9oZevymCRbz"
      },
      "outputs": [],
      "source": [
        "labels.to_csv('subimission_nn10.csv',index=False)"
      ]
    }
  ],
  "metadata": {
    "colab": {
      "provenance": []
    },
    "kernelspec": {
      "display_name": "Python 3 (ipykernel)",
      "language": "python",
      "name": "python3"
    },
    "language_info": {
      "codemirror_mode": {
        "name": "ipython",
        "version": 3
      },
      "file_extension": ".py",
      "mimetype": "text/x-python",
      "name": "python",
      "nbconvert_exporter": "python",
      "pygments_lexer": "ipython3",
      "version": "3.8.12"
    },
    "toc": {
      "base_numbering": 1,
      "nav_menu": {},
      "number_sections": true,
      "sideBar": true,
      "skip_h1_title": false,
      "title_cell": "Table of Contents",
      "title_sidebar": "Contents",
      "toc_cell": false,
      "toc_position": {},
      "toc_section_display": true,
      "toc_window_display": false
    }
  },
  "nbformat": 4,
  "nbformat_minor": 0
}